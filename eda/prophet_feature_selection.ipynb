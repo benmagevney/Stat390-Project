{
 "cells": [
  {
   "cell_type": "code",
   "execution_count": 58,
   "metadata": {},
   "outputs": [],
   "source": [
    "import pandas as pd\n",
    "import matplotlib.pyplot as plt\n",
    "import statsmodels.api as sm\n",
    "import seaborn as sns\n",
    "import warnings\n",
    "import prophet\n",
    "from sklearn.linear_model import LinearRegression\n",
    "from sklearn.feature_selection import SequentialFeatureSelector\n",
    "warnings.filterwarnings(\"ignore\")"
   ]
  },
  {
   "cell_type": "code",
   "execution_count": 64,
   "metadata": {},
   "outputs": [],
   "source": [
    "data = pd.read_csv('../data/regional_multivariate_data.csv')\n",
    "enc = pd.read_csv('../data/regional_datasets/multivariate/enc_data_multi.csv')\n",
    "esc = pd.read_csv('../data/regional_datasets/multivariate/esc_data_multi.csv')\n",
    "midatl = pd.read_csv('../data/regional_datasets/multivariate/mid_atlantic_data_multi.csv')\n",
    "mount = pd.read_csv('../data/regional_datasets/multivariate/mountain_data_multi.csv')\n",
    "ne = pd.read_csv('../data/regional_datasets/multivariate/new_england_data_multi.csv')\n",
    "pac = pd.read_csv('../data/regional_datasets/multivariate/pacific_data_multi.csv')\n",
    "satl = pd.read_csv('../data/regional_datasets/multivariate/south_atlantic_data_multi.csv')\n",
    "wnc = pd.read_csv('../data/regional_datasets/multivariate/wnc_data_multi.csv')\n",
    "wsc = pd.read_csv('../data/regional_datasets/multivariate/wsc_data_multi.csv')"
   ]
  },
  {
   "cell_type": "code",
   "execution_count": 41,
   "metadata": {},
   "outputs": [],
   "source": [
    "sets = [enc, esc, midatl, mount, ne, pac, satl, wnc, wsc]"
   ]
  },
  {
   "cell_type": "code",
   "execution_count": 57,
   "metadata": {},
   "outputs": [
    {
     "name": "stdout",
     "output_type": "stream",
     "text": [
      "East North Central\n",
      "Number of Forward Selection Features:  4\n",
      "East South Central\n",
      "Number of Forward Selection Features:  6\n",
      "Mid-Atlantic\n",
      "Number of Forward Selection Features:  2\n",
      "Mountain\n",
      "Number of Forward Selection Features:  3\n",
      "New England\n",
      "Number of Forward Selection Features:  3\n",
      "Pacific\n",
      "Number of Forward Selection Features:  4\n",
      "South Atlantic\n",
      "Number of Forward Selection Features:  4\n",
      "West North Central\n",
      "Number of Forward Selection Features:  3\n",
      "West South Central\n",
      "Number of Forward Selection Features:  1\n"
     ]
    }
   ],
   "source": [
    "forwarddict = dict()\n",
    "for temp in sets:\n",
    "    tempdata = temp.dropna()\n",
    "    region = tempdata.region.unique()[0]\n",
    "    print(region)\n",
    "    xtemp = tempdata.drop(columns = ['region', 'date', 'new_confirmed'])\n",
    "    feature_names = xtemp.columns\n",
    "    ytemp = tempdata.new_confirmed\n",
    "    model = LinearRegression()\n",
    "    ffs = SequentialFeatureSelector(estimator = model, direction = 'forward', tol = 0.001).fit(xtemp, ytemp)\n",
    "    print(\"Number of Forward Selection Features: \", len(feature_names[ffs.get_support()]))\n",
    "    forwarddict[region] = feature_names[ffs.get_support()]"
   ]
  },
  {
   "cell_type": "code",
   "execution_count": 48,
   "metadata": {},
   "outputs": [
    {
     "name": "stdout",
     "output_type": "stream",
     "text": [
      "East North Central\n",
      "29\n",
      "East South Central\n",
      "23\n",
      "Mid-Atlantic\n",
      "31\n",
      "Mountain\n",
      "32\n",
      "New England\n",
      "16\n",
      "Pacific\n",
      "40\n",
      "South Atlantic\n",
      "25\n",
      "West North Central\n",
      "36\n",
      "West South Central\n",
      "25\n"
     ]
    }
   ],
   "source": [
    "backwarddict = dict()\n",
    "for temp in sets:\n",
    "    tempdata = temp.dropna()\n",
    "    region = tempdata.region.unique()[0]\n",
    "    print(region)\n",
    "    xtemp = tempdata.drop(columns = ['region', 'date', 'new_confirmed'])\n",
    "    feature_names = xtemp.columns\n",
    "    ytemp = tempdata.new_confirmed\n",
    "    model = LinearRegression()\n",
    "    bfs = SequentialFeatureSelector(estimator = model, direction = 'backward', tol = 0.001).fit(xtemp, ytemp)\n",
    "    print(len(feature_names[bfs.get_support()]))\n",
    "    backwarddict[region] = feature_names[bfs.get_support()]"
   ]
  },
  {
   "cell_type": "code",
   "execution_count": 52,
   "metadata": {},
   "outputs": [
    {
     "name": "stdout",
     "output_type": "stream",
     "text": [
      "East North Central\n",
      "0.7999337394969832\n",
      "East South Central\n",
      "0.7383243838277345\n",
      "Mid-Atlantic\n",
      "0.907508189743158\n",
      "Mountain\n",
      "0.7372811042995708\n",
      "New England\n",
      "0.6669444917700889\n",
      "Pacific\n",
      "0.8151644799301857\n",
      "South Atlantic\n",
      "0.6676180623571739\n",
      "West North Central\n",
      "0.7321372778065126\n",
      "West South Central\n",
      "0.7464990324965946\n"
     ]
    }
   ],
   "source": [
    "for temp in sets:\n",
    "    data1 = temp.dropna()\n",
    "    region = data1.region.unique()[0]\n",
    "    xtemp = data1[forwarddict[region]]\n",
    "    ytemp = data1.new_confirmed\n",
    "    model = LinearRegression()\n",
    "    model.fit(xtemp, ytemp)\n",
    "    print(region)\n",
    "    print(model.score(xtemp, ytemp))"
   ]
  },
  {
   "cell_type": "code",
   "execution_count": 53,
   "metadata": {},
   "outputs": [
    {
     "name": "stdout",
     "output_type": "stream",
     "text": [
      "East North Central\n",
      "0.8252650163733761\n",
      "East South Central\n",
      "0.7597579225161926\n",
      "Mid-Atlantic\n",
      "0.945553030754114\n",
      "Mountain\n",
      "0.7136379915008402\n",
      "New England\n",
      "0.5693928726319077\n",
      "Pacific\n",
      "0.8469047830460603\n",
      "South Atlantic\n",
      "0.6447287908386374\n",
      "West North Central\n",
      "0.7917780175486865\n",
      "West South Central\n",
      "0.8086792133144673\n"
     ]
    }
   ],
   "source": [
    "for temp in sets:\n",
    "    data1 = temp.dropna()\n",
    "    region = data1.region.unique()[0]\n",
    "    print(region)\n",
    "    xtemp = data1[backwarddict[region]]\n",
    "    ytemp = data1.new_confirmed\n",
    "    model = LinearRegression()\n",
    "    model.fit(xtemp, ytemp)\n",
    "    print(model.score(xtemp, ytemp))"
   ]
  }
 ],
 "metadata": {
  "kernelspec": {
   "display_name": "base",
   "language": "python",
   "name": "python3"
  },
  "language_info": {
   "codemirror_mode": {
    "name": "ipython",
    "version": 3
   },
   "file_extension": ".py",
   "mimetype": "text/x-python",
   "name": "python",
   "nbconvert_exporter": "python",
   "pygments_lexer": "ipython3",
   "version": "3.11.4"
  }
 },
 "nbformat": 4,
 "nbformat_minor": 2
}
