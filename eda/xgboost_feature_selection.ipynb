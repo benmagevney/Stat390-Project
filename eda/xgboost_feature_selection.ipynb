{
 "cells": [
  {
   "cell_type": "code",
   "execution_count": 8,
   "metadata": {},
   "outputs": [],
   "source": [
    "import pandas as pd\n",
    "import xgboost as xgb\n",
    "import matplotlib.pyplot as plt\n",
    "import numpy as np"
   ]
  },
  {
   "cell_type": "code",
   "execution_count": 9,
   "metadata": {},
   "outputs": [],
   "source": [
    "data = pd.read_csv('../data/regional_multivariate_data.csv')\n",
    "data['date'] = pd.to_datetime(data['date'])"
   ]
  },
  {
   "cell_type": "code",
   "execution_count": 24,
   "metadata": {},
   "outputs": [],
   "source": [
    "def calculate_feature_importance(data, threshold=0.1, target=\"new_confirmed\", plot=False):\n",
    "    X = data.drop([target, 'region'], axis=1)\n",
    "    y = data[target]\n",
    "    # model = xgb.XGBRegressor(objective ='reg:squarederror')\n",
    "    model = xgb.XGBRegressor()\n",
    "    model.fit(X, y)\n",
    "\n",
    "    stats = pd.DataFrame({'importance': model.feature_importances_}, index=X.columns)\n",
    "    stats = stats.sort_values('importance', ascending=False)\n",
    "    print(stats.iloc[:5])\n",
    "    print(stats[stats[\"importance\"] >= threshold])\n",
    "\n",
    "    if plot:\n",
    "        plt.figure(figsize=(28, 8))\n",
    "        # plt.title(name)\n",
    "        plt.xticks(rotation=45)\n",
    "        plt.bar(X.columns, model.feature_importances_)\n",
    "        plt.show()"
   ]
  },
  {
   "cell_type": "code",
   "execution_count": 11,
   "metadata": {},
   "outputs": [
    {
     "name": "stdout",
     "output_type": "stream",
     "text": [
      "East North Central\n",
      "                                             importance\n",
      "current_hospitalized_patients                  0.384517\n",
      "cumulative_persons_fully_vaccinated_moderna    0.146271\n",
      "workplace_closing                              0.097206\n",
      "new_hospitalized_patients                      0.062908\n",
      "new_deceased                                   0.037831\n",
      "\n",
      "\n",
      "\n",
      "East South Central\n",
      "                                       importance\n",
      "current_hospitalized_patients            0.377714\n",
      "cumulative_confirmed                     0.151957\n",
      "cumulative_vaccine_doses_administered    0.089578\n",
      "new_hospitalized_patients                0.067852\n",
      "new_deceased                             0.033674\n",
      "\n",
      "\n",
      "\n",
      "Mid-Atlantic\n",
      "                               importance\n",
      "stay_at_home_requirements        0.524141\n",
      "new_hospitalized_patients        0.350233\n",
      "workplace_closing                0.053362\n",
      "cumulative_confirmed             0.019563\n",
      "current_hospitalized_patients    0.012737\n",
      "\n",
      "\n",
      "\n",
      "Mountain\n",
      "                           importance\n",
      "new_hospitalized_patients    0.352620\n",
      "cancel_public_events         0.181188\n",
      "cumulative_confirmed         0.151144\n",
      "income_support               0.041860\n",
      "stay_at_home_requirements    0.029893\n",
      "\n",
      "\n",
      "\n",
      "New England\n",
      "                             importance\n",
      "new_hospitalized_patients      0.316347\n",
      "average_temperature_celsius    0.129421\n",
      "school_closing                 0.107437\n",
      "income_support                 0.065582\n",
      "rainfall_mm                    0.053288\n",
      "\n",
      "\n",
      "\n",
      "Pacific\n",
      "                                        importance\n",
      "public_transport_closing                  0.786340\n",
      "cumulative_persons_vaccinated             0.074217\n",
      "new_hospitalized_patients                 0.060022\n",
      "cumulative_deceased                       0.022924\n",
      "new_vaccine_doses_administered_janssen    0.010166\n",
      "\n",
      "\n",
      "\n",
      "South Atlantic\n",
      "                           importance\n",
      "contact_tracing              0.311038\n",
      "new_hospitalized_patients    0.296300\n",
      "stay_at_home_requirements    0.142824\n",
      "cumulative_deceased          0.038917\n",
      "new_deceased                 0.031224\n",
      "\n",
      "\n",
      "\n",
      "West North Central\n",
      "                                        importance\n",
      "current_hospitalized_patients             0.279046\n",
      "new_vaccine_doses_administered_moderna    0.133428\n",
      "new_hospitalized_patients                 0.113979\n",
      "workplace_closing                         0.085997\n",
      "income_support                            0.066112\n",
      "\n",
      "\n",
      "\n",
      "West South Central\n",
      "                                               importance\n",
      "new_hospitalized_patients                        0.464286\n",
      "cumulative_confirmed                             0.291322\n",
      "current_intensive_care_patients                  0.020524\n",
      "cumulative_vaccine_doses_administered_janssen    0.018880\n",
      "relative_humidity                                0.018695\n",
      "\n",
      "\n",
      "\n"
     ]
    }
   ],
   "source": [
    "# split data into train and test sets\n",
    "groups = data.groupby('region')\n",
    "target = \"new_confirmed\"\n",
    "for name, group in groups:\n",
    "    print(name)\n",
    "    # split data into X and y\n",
    "    group = group.set_index('date')\n",
    "    X = group.drop([target, 'region'], axis=1)\n",
    "    y = group[target]\n",
    "    # model = xgb.XGBRegressor(objective ='reg:squarederror')\n",
    "    model = xgb.XGBRegressor()\n",
    "    model.fit(X, y)\n",
    "\n",
    "    stats = pd.DataFrame({'importance': model.feature_importances_}, index=X.columns)\n",
    "    stats = stats.sort_values('importance', ascending=False)\n",
    "    print(stats.iloc[:5])\n",
    "\n",
    "    # plt.figure(figsize=(28, 8))\n",
    "    # plt.title(name)\n",
    "    # plt.xticks(rotation=45)\n",
    "    # plt.bar(X.columns, model.feature_importances_)\n",
    "    # plt.show()\n",
    "\n",
    "    print('\\n\\n')"
   ]
  },
  {
   "cell_type": "markdown",
   "metadata": {},
   "source": [
    "## explore logs"
   ]
  },
  {
   "cell_type": "code",
   "execution_count": 15,
   "metadata": {},
   "outputs": [
    {
     "name": "stdout",
     "output_type": "stream",
     "text": [
      "East North Central\n"
     ]
    },
    {
     "name": "stderr",
     "output_type": "stream",
     "text": [
      "/Users/benmagevney/miniconda/lib/python3.8/site-packages/pandas/core/internals/blocks.py:402: RuntimeWarning: invalid value encountered in log\n",
      "  result = func(self.values, **kwargs)\n"
     ]
    },
    {
     "name": "stdout",
     "output_type": "stream",
     "text": [
      "                                      importance\n",
      "new_hospitalized_patients               0.521556\n",
      "cumulative_persons_vaccinated           0.349303\n",
      "cumulative_confirmed                    0.054645\n",
      "new_persons_fully_vaccinated_janssen    0.011019\n",
      "new_persons_fully_vaccinated_moderna    0.009378\n",
      "\n",
      "\n",
      "\n",
      "East South Central\n"
     ]
    },
    {
     "name": "stderr",
     "output_type": "stream",
     "text": [
      "/Users/benmagevney/miniconda/lib/python3.8/site-packages/pandas/core/internals/blocks.py:402: RuntimeWarning: invalid value encountered in log\n",
      "  result = func(self.values, **kwargs)\n"
     ]
    },
    {
     "name": "stdout",
     "output_type": "stream",
     "text": [
      "                                        importance\n",
      "cumulative_vaccine_doses_administered     0.629367\n",
      "new_hospitalized_patients                 0.158942\n",
      "cumulative_persons_fully_vaccinated       0.122420\n",
      "cumulative_confirmed                      0.037467\n",
      "new_vaccine_doses_administered_moderna    0.018005\n",
      "\n",
      "\n",
      "\n",
      "Mid-Atlantic\n"
     ]
    },
    {
     "name": "stderr",
     "output_type": "stream",
     "text": [
      "/Users/benmagevney/miniconda/lib/python3.8/site-packages/pandas/core/internals/blocks.py:402: RuntimeWarning: invalid value encountered in log\n",
      "  result = func(self.values, **kwargs)\n"
     ]
    },
    {
     "name": "stdout",
     "output_type": "stream",
     "text": [
      "                                             importance\n",
      "new_hospitalized_patients                      0.501195\n",
      "cumulative_persons_vaccinated                  0.298588\n",
      "cumulative_confirmed                           0.084465\n",
      "cumulative_persons_fully_vaccinated_janssen    0.059213\n",
      "new_persons_fully_vaccinated_janssen           0.011713\n",
      "\n",
      "\n",
      "\n",
      "Mountain\n"
     ]
    },
    {
     "name": "stderr",
     "output_type": "stream",
     "text": [
      "/Users/benmagevney/miniconda/lib/python3.8/site-packages/pandas/core/internals/blocks.py:402: RuntimeWarning: invalid value encountered in log\n",
      "  result = func(self.values, **kwargs)\n"
     ]
    },
    {
     "name": "stdout",
     "output_type": "stream",
     "text": [
      "                                            importance\n",
      "cumulative_persons_vaccinated                 0.499167\n",
      "new_hospitalized_patients                     0.294200\n",
      "cumulative_persons_fully_vaccinated_pfizer    0.133099\n",
      "cumulative_persons_fully_vaccinated           0.045388\n",
      "cumulative_confirmed                          0.016396\n",
      "\n",
      "\n",
      "\n",
      "New England\n"
     ]
    },
    {
     "name": "stderr",
     "output_type": "stream",
     "text": [
      "/Users/benmagevney/miniconda/lib/python3.8/site-packages/pandas/core/internals/blocks.py:402: RuntimeWarning: invalid value encountered in log\n",
      "  result = func(self.values, **kwargs)\n"
     ]
    },
    {
     "name": "stdout",
     "output_type": "stream",
     "text": [
      "                                              importance\n",
      "cumulative_vaccine_doses_administered_pfizer    0.301423\n",
      "stringency_index                                0.259080\n",
      "cumulative_confirmed                            0.158443\n",
      "cumulative_persons_vaccinated                   0.105916\n",
      "new_hospitalized_patients                       0.060354\n",
      "\n",
      "\n",
      "\n",
      "Pacific\n"
     ]
    },
    {
     "name": "stderr",
     "output_type": "stream",
     "text": [
      "/Users/benmagevney/miniconda/lib/python3.8/site-packages/pandas/core/internals/blocks.py:402: RuntimeWarning: invalid value encountered in log\n",
      "  result = func(self.values, **kwargs)\n"
     ]
    },
    {
     "name": "stdout",
     "output_type": "stream",
     "text": [
      "                                importance\n",
      "new_hospitalized_patients         0.448093\n",
      "contact_tracing                   0.200261\n",
      "cumulative_confirmed              0.118866\n",
      "new_vaccine_doses_administered    0.036357\n",
      "dew_point                         0.026099\n",
      "\n",
      "\n",
      "\n",
      "South Atlantic\n"
     ]
    },
    {
     "name": "stderr",
     "output_type": "stream",
     "text": [
      "/Users/benmagevney/miniconda/lib/python3.8/site-packages/pandas/core/internals/blocks.py:402: RuntimeWarning: invalid value encountered in log\n",
      "  result = func(self.values, **kwargs)\n"
     ]
    },
    {
     "name": "stdout",
     "output_type": "stream",
     "text": [
      "                              importance\n",
      "new_hospitalized_patients       0.568712\n",
      "cumulative_confirmed            0.385497\n",
      "new_deceased                    0.006513\n",
      "school_closing                  0.004649\n",
      "new_persons_fully_vaccinated    0.004332\n",
      "\n",
      "\n",
      "\n",
      "West North Central\n"
     ]
    },
    {
     "name": "stderr",
     "output_type": "stream",
     "text": [
      "/Users/benmagevney/miniconda/lib/python3.8/site-packages/pandas/core/internals/blocks.py:402: RuntimeWarning: invalid value encountered in log\n",
      "  result = func(self.values, **kwargs)\n"
     ]
    },
    {
     "name": "stdout",
     "output_type": "stream",
     "text": [
      "                           importance\n",
      "contact_tracing              0.477028\n",
      "new_hospitalized_patients    0.314620\n",
      "cumulative_confirmed         0.047007\n",
      "income_support               0.036148\n",
      "relative_humidity            0.030816\n",
      "\n",
      "\n",
      "\n",
      "West South Central\n"
     ]
    },
    {
     "name": "stderr",
     "output_type": "stream",
     "text": [
      "/Users/benmagevney/miniconda/lib/python3.8/site-packages/pandas/core/internals/blocks.py:402: RuntimeWarning: invalid value encountered in log\n",
      "  result = func(self.values, **kwargs)\n"
     ]
    },
    {
     "name": "stdout",
     "output_type": "stream",
     "text": [
      "                                 importance\n",
      "new_hospitalized_patients          0.714090\n",
      "relative_humidity                  0.129717\n",
      "current_intensive_care_patients    0.038959\n",
      "cumulative_confirmed               0.022739\n",
      "current_hospitalized_patients      0.014698\n",
      "\n",
      "\n",
      "\n"
     ]
    }
   ],
   "source": [
    "# split data into train and test sets\n",
    "groups = data.groupby('region')\n",
    "target = \"new_confirmed\"\n",
    "for name, group in groups:\n",
    "    print(name)\n",
    "    # split data into X and y\n",
    "    group = group.set_index('date')\n",
    "    X = group.drop([target, 'region'], axis=1)\n",
    "    X = X.replace(0, np.nan)\n",
    "    X = X.dropna()  # or use another method to fill nan values\n",
    "    X = np.log(X)\n",
    "    y = group.loc[X.index, target]\n",
    "    # model = xgb.XGBRegressor(objective ='reg:squarederror')\n",
    "    model = xgb.XGBRegressor()\n",
    "    model.fit(X, y)\n",
    "\n",
    "    stats = pd.DataFrame({'importance': model.feature_importances_}, index=X.columns)\n",
    "    stats = stats.sort_values('importance', ascending=False)\n",
    "    print(stats.iloc[:5])\n",
    "\n",
    "    # plt.figure(figsize=(28, 8))\n",
    "    # plt.title(name)\n",
    "    # plt.xticks(rotation=45)\n",
    "    # plt.bar(X.columns, model.feature_importances_)\n",
    "    # plt.show()\n",
    "\n",
    "    print('\\n\\n')"
   ]
  },
  {
   "cell_type": "markdown",
   "metadata": {},
   "source": [
    "## check out lag terms "
   ]
  },
  {
   "cell_type": "code",
   "execution_count": 13,
   "metadata": {},
   "outputs": [],
   "source": [
    "enc = pd.read_csv('../data/regional_datasets/multivariate/enc_data_multi.csv')\n",
    "esc = pd.read_csv('../data/regional_datasets/multivariate/esc_data_multi.csv')\n",
    "mid_atlantic = pd.read_csv('../data/regional_datasets/multivariate/mid_atlantic_data_multi.csv')\n",
    "mountain = pd.read_csv('../data/regional_datasets/multivariate/mountain_data_multi.csv')\n",
    "new_england = pd.read_csv('../data/regional_datasets/multivariate/new_england_data_multi.csv')\n",
    "pacific = pd.read_csv('../data/regional_datasets/multivariate/pacific_data_multi.csv')\n",
    "south_atlantic = pd.read_csv('../data/regional_datasets/multivariate/south_atlantic_data_multi.csv')\n",
    "wnc = pd.read_csv('../data/regional_datasets/multivariate/wnc_data_multi.csv')\n",
    "wsc = pd.read_csv('../data/regional_datasets/multivariate/wsc_data_multi.csv')\n",
    "datasets = [enc, esc, mid_atlantic, mountain, new_england, pacific, south_atlantic, wnc, wsc]\n",
    "for df in datasets:\n",
    "    df.drop('Unnamed: 0', axis=1, inplace=True)\n",
    "    df['date'] = pd.to_datetime(df['date'])\n",
    "    df.set_index('date', inplace=True)"
   ]
  },
  {
   "cell_type": "code",
   "execution_count": 25,
   "metadata": {},
   "outputs": [
    {
     "name": "stdout",
     "output_type": "stream",
     "text": [
      "East North Central\n",
      "                                 importance\n",
      "7_day_shift                        0.654887\n",
      "current_intensive_care_patients    0.072584\n",
      "school_closing                     0.031775\n",
      "contact_tracing                    0.028264\n",
      "current_hospitalized_patients      0.024152\n",
      "                                 importance\n",
      "7_day_shift                        0.654887\n",
      "current_intensive_care_patients    0.072584\n",
      "\n",
      "\n",
      "East South Central\n",
      "                      importance\n",
      "7_day_avg               0.596956\n",
      "7_day_shift             0.139206\n",
      "cancel_public_events    0.044987\n",
      "school_closing          0.030782\n",
      "new_deceased            0.024986\n",
      "             importance\n",
      "7_day_avg      0.596956\n",
      "7_day_shift    0.139206\n",
      "\n",
      "\n",
      "Mid-Atlantic\n",
      "                               importance\n",
      "7_day_avg                        0.837090\n",
      "2_day_shift                      0.077875\n",
      "1_day_shift                      0.042509\n",
      "cumulative_confirmed             0.016230\n",
      "cumulative_persons_vaccinated    0.006906\n",
      "             importance\n",
      "7_day_avg      0.837090\n",
      "2_day_shift    0.077875\n",
      "\n",
      "\n",
      "Mountain\n",
      "                           importance\n",
      "7_day_shift                  0.595024\n",
      "7_day_avg                    0.148570\n",
      "cumulative_confirmed         0.049153\n",
      "stay_at_home_requirements    0.035872\n",
      "stringency_index             0.032358\n",
      "             importance\n",
      "7_day_shift    0.595024\n",
      "7_day_avg      0.148570\n",
      "\n",
      "\n",
      "New England\n",
      "                                               importance\n",
      "7_day_shift                                      0.613820\n",
      "7_day_avg                                        0.080642\n",
      "current_intensive_care_patients                  0.071699\n",
      "workplace_closing                                0.069330\n",
      "cumulative_vaccine_doses_administered_janssen    0.032191\n",
      "                                 importance\n",
      "7_day_shift                        0.613820\n",
      "7_day_avg                          0.080642\n",
      "current_intensive_care_patients    0.071699\n",
      "workplace_closing                  0.069330\n",
      "\n",
      "\n",
      "Pacific\n",
      "                                               importance\n",
      "7_day_shift                                      0.573327\n",
      "7_day_avg                                        0.148475\n",
      "cumulative_vaccine_doses_administered_moderna    0.068308\n",
      "cumulative_confirmed                             0.054985\n",
      "3_day_shift                                      0.026683\n",
      "                                               importance\n",
      "7_day_shift                                      0.573327\n",
      "7_day_avg                                        0.148475\n",
      "cumulative_vaccine_doses_administered_moderna    0.068308\n",
      "cumulative_confirmed                             0.054985\n",
      "\n",
      "\n",
      "South Atlantic\n",
      "                           importance\n",
      "7_day_shift                  0.625716\n",
      "7_day_avg                    0.119969\n",
      "new_hospitalized_patients    0.044694\n",
      "stay_at_home_requirements    0.023409\n",
      "income_support               0.019477\n",
      "             importance\n",
      "7_day_shift    0.625716\n",
      "7_day_avg      0.119969\n",
      "\n",
      "\n",
      "West North Central\n",
      "                               importance\n",
      "7_day_avg                        0.335767\n",
      "income_support                   0.297355\n",
      "7_day_shift                      0.199055\n",
      "public_transport_closing         0.032254\n",
      "current_hospitalized_patients    0.022064\n",
      "                importance\n",
      "7_day_avg         0.335767\n",
      "income_support    0.297355\n",
      "7_day_shift       0.199055\n",
      "\n",
      "\n",
      "West South Central\n",
      "                                 importance\n",
      "7_day_avg                          0.764583\n",
      "7_day_shift                        0.066882\n",
      "cumulative_confirmed               0.025315\n",
      "facial_coverings                   0.015352\n",
      "current_intensive_care_patients    0.014319\n",
      "             importance\n",
      "7_day_avg      0.764583\n",
      "7_day_shift    0.066882\n",
      "\n",
      "\n"
     ]
    }
   ],
   "source": [
    "for df in datasets:\n",
    "    print(df['region'].iloc[0])\n",
    "    calculate_feature_importance(df, threshold=0.05, target=\"new_confirmed\")\n",
    "    \n",
    "    print('\\n')"
   ]
  },
  {
   "cell_type": "code",
   "execution_count": 30,
   "metadata": {},
   "outputs": [
    {
     "name": "stdout",
     "output_type": "stream",
     "text": [
      "East North Central\n",
      "Number of features for 95% importance: 19, out of 51\n",
      "Important features: ['7_day_shift', 'current_intensive_care_patients', 'school_closing', 'contact_tracing', 'current_hospitalized_patients', 'new_hospitalized_patients', 'new_persons_fully_vaccinated_moderna', '1_day_shift', 'stay_at_home_requirements', 'new_vaccine_doses_administered_moderna', 'cumulative_persons_fully_vaccinated_moderna', 'cumulative_persons_fully_vaccinated', '7_day_avg', '2_day_shift', 'new_deceased', 'cumulative_confirmed', 'income_support', 'testing_policy', 'cumulative_persons_vaccinated']\n",
      "\n",
      "\n",
      "East South Central\n",
      "Number of features for 95% importance: 14, out of 52\n",
      "Important features: ['7_day_avg', '7_day_shift', 'cancel_public_events', 'school_closing', 'new_deceased', '2_day_shift', 'income_support', 'minimum_temperature_celsius', '1_day_shift', 'average_temperature_celsius', 'new_vaccine_doses_administered_janssen', 'current_intensive_care_patients', 'rainfall_mm', 'stringency_index']\n",
      "\n",
      "\n",
      "Mid-Atlantic\n",
      "Number of features for 95% importance: 3, out of 52\n",
      "Important features: ['7_day_avg', '2_day_shift', '1_day_shift']\n",
      "\n",
      "\n",
      "Mountain\n",
      "Number of features for 95% importance: 14, out of 51\n",
      "Important features: ['7_day_shift', '7_day_avg', 'cumulative_confirmed', 'stay_at_home_requirements', 'stringency_index', 'income_support', '1_day_shift', 'new_vaccine_doses_administered_moderna', 'new_hospitalized_patients', 'cancel_public_events', 'new_deceased', 'current_hospitalized_patients', 'cumulative_vaccine_doses_administered_janssen', 'dew_point']\n",
      "\n",
      "\n",
      "New England\n",
      "Number of features for 95% importance: 11, out of 50\n",
      "Important features: ['7_day_shift', '7_day_avg', 'current_intensive_care_patients', 'workplace_closing', 'cumulative_vaccine_doses_administered_janssen', 'school_closing', 'cumulative_confirmed', 'new_hospitalized_patients', 'cumulative_deceased', 'income_support', 'average_temperature_celsius']\n",
      "\n",
      "\n",
      "Pacific\n",
      "Number of features for 95% importance: 12, out of 52\n",
      "Important features: ['7_day_shift', '7_day_avg', 'cumulative_vaccine_doses_administered_moderna', 'cumulative_confirmed', '3_day_shift', 'minimum_temperature_celsius', 'cumulative_vaccine_doses_administered', 'school_closing', '1_day_shift', 'contact_tracing', 'cumulative_persons_vaccinated', 'new_vaccine_doses_administered']\n",
      "\n",
      "\n",
      "South Atlantic\n",
      "Number of features for 95% importance: 19, out of 51\n",
      "Important features: ['7_day_shift', '7_day_avg', 'new_hospitalized_patients', 'stay_at_home_requirements', 'income_support', 'public_transport_closing', 'school_closing', 'stringency_index', 'current_hospitalized_patients', 'minimum_temperature_celsius', 'relative_humidity', '6_day_shift', 'new_deceased', 'new_vaccine_doses_administered_moderna', 'cumulative_persons_fully_vaccinated', 'facial_coverings', 'cumulative_confirmed', 'cancel_public_events', 'rainfall_mm']\n",
      "\n",
      "\n",
      "West North Central\n",
      "Number of features for 95% importance: 11, out of 51\n",
      "Important features: ['7_day_avg', 'income_support', '7_day_shift', 'public_transport_closing', 'current_hospitalized_patients', 'new_deceased', 'new_persons_vaccinated', 'new_persons_fully_vaccinated', 'new_hospitalized_patients', 'relative_humidity', 'restrictions_on_gatherings']\n",
      "\n",
      "\n",
      "West South Central\n",
      "Number of features for 95% importance: 14, out of 50\n",
      "Important features: ['7_day_avg', '7_day_shift', 'cumulative_confirmed', 'facial_coverings', 'current_intensive_care_patients', 'new_hospitalized_patients', 'contact_tracing', 'current_hospitalized_patients', '1_day_shift', 'stringency_index', 'public_transport_closing', 'workplace_closing', 'relative_humidity', 'school_closing']\n",
      "\n",
      "\n"
     ]
    }
   ],
   "source": [
    "def calculate_importance(data, threshold=0.1, target=\"new_confirmed\", plot=False):\n",
    "    X = data.drop([target, 'region'], axis=1)\n",
    "    y = data[target]\n",
    "    # model = xgb.XGBRegressor(objective ='reg:squarederror')\n",
    "    model = xgb.XGBRegressor()\n",
    "    model.fit(X, y)\n",
    "\n",
    "    stats = pd.DataFrame({'importance': model.feature_importances_}, index=X.columns)\n",
    "    stats = stats.sort_values('importance', ascending=False)\n",
    "    stats[\"cum_importance\"] = np.cumsum(stats['importance'])\n",
    "\n",
    "    # Determine the number of features needed for 95% of total importance\n",
    "    n_95_percent = np.where(stats[\"cum_importance\"] > 0.95)[0][0] + 1\n",
    "\n",
    "    # Get the most important features accounting for 95% of the total\n",
    "    important_features = stats[:n_95_percent]\n",
    "\n",
    "    print(f\"Number of features for 95% importance: {n_95_percent}, out of {len(stats)}\")\n",
    "    print(f\"Important features: {list(important_features.index)}\")\n",
    "\n",
    "for df in datasets:\n",
    "    print(df['region'].iloc[0])\n",
    "    calculate_importance(df, threshold=0.05, target=\"new_confirmed\")\n",
    "    \n",
    "    print('\\n')"
   ]
  },
  {
   "cell_type": "code",
   "execution_count": null,
   "metadata": {},
   "outputs": [],
   "source": []
  }
 ],
 "metadata": {
  "kernelspec": {
   "display_name": "base",
   "language": "python",
   "name": "python3"
  },
  "language_info": {
   "codemirror_mode": {
    "name": "ipython",
    "version": 3
   },
   "file_extension": ".py",
   "mimetype": "text/x-python",
   "name": "python",
   "nbconvert_exporter": "python",
   "pygments_lexer": "ipython3",
   "version": "3.8.5"
  }
 },
 "nbformat": 4,
 "nbformat_minor": 2
}
