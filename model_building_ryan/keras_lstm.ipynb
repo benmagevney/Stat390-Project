{
 "cells": [
  {
   "cell_type": "code",
   "execution_count": 137,
   "metadata": {},
   "outputs": [],
   "source": [
    "import pandas as pd\n",
    "import matplotlib.pyplot as plt\n",
    "import statsmodels.api as sm\n",
    "import numpy as np\n",
    "import seaborn as sns\n",
    "import keras\n",
    "import warnings\n",
    "from sklearn.linear_model import LinearRegression\n",
    "from sklearn.feature_selection import SequentialFeatureSelector\n",
    "from sklearn.metrics import mean_absolute_error, mean_squared_error\n",
    "from sklearn.model_selection import train_test_split\n",
    "from sklearn.tree import DecisionTreeRegressor\n",
    "from sklearn.preprocessing import StandardScaler, MinMaxScaler, Normalizer\n",
    "warnings.filterwarnings(\"ignore\")\n",
    "import keras\n",
    "from sklearn.preprocessing import StandardScaler\n",
    "warnings.filterwarnings(\"ignore\")\n",
    "import keras_tuner as kt\n",
    "import tensorflow as tf"
   ]
  },
  {
   "cell_type": "code",
   "execution_count": 138,
   "metadata": {},
   "outputs": [],
   "source": [
    "data = pd.read_csv('../data/regional_multivariate_data.csv')\n",
    "enc = pd.read_csv('../data/regional_datasets/multivariate/enc_data_multi.csv').drop(columns = 'Unnamed: 0').set_index('date')\n",
    "esc = pd.read_csv('../data/regional_datasets/multivariate/esc_data_multi.csv').drop(columns = 'Unnamed: 0').set_index('date')\n",
    "midatl = pd.read_csv('../data/regional_datasets/multivariate/mid_atlantic_data_multi.csv').drop(columns = 'Unnamed: 0').set_index('date')\n",
    "mount = pd.read_csv('../data/regional_datasets/multivariate/mountain_data_multi.csv').drop(columns = 'Unnamed: 0').set_index('date')\n",
    "ne = pd.read_csv('../data/regional_datasets/multivariate/new_england_data_multi.csv').drop(columns = 'Unnamed: 0').set_index('date')\n",
    "pac = pd.read_csv('../data/regional_datasets/multivariate/pacific_data_multi.csv').drop(columns = 'Unnamed: 0').set_index('date')\n",
    "satl = pd.read_csv('../data/regional_datasets/multivariate/south_atlantic_data_multi.csv').drop(columns = 'Unnamed: 0').set_index('date')\n",
    "wnc = pd.read_csv('../data/regional_datasets/multivariate/wnc_data_multi.csv').drop(columns = 'Unnamed: 0').set_index('date')\n",
    "wsc = pd.read_csv('../data/regional_datasets/multivariate/wsc_data_multi.csv').drop(columns = 'Unnamed: 0').set_index('date')"
   ]
  },
  {
   "cell_type": "code",
   "execution_count": 168,
   "metadata": {},
   "outputs": [],
   "source": [
    "def process_normalize(df):\n",
    "    x = df.drop(columns = ['new_confirmed', 'region'] + [col for col in df.columns if col[0].isdigit()])\n",
    "    lag1df = x.shift(1)\n",
    "    lag1df.columns = ['lag1_' + str(col) for col in lag1df.columns]\n",
    "    df = df[['new_confirmed'] + [col for col in df.columns if col[0].isdigit()]].join(lag1df)\n",
    "    df = df.dropna()\n",
    "    normalizer = Normalizer()\n",
    "    norm_df = normalizer.fit_transform(df.drop(columns = 'new_confirmed'))\n",
    "    res = pd.concat([df.new_confirmed, \n",
    "                     pd.DataFrame(norm_df, columns = df.columns.drop('new_confirmed'), index = df.index)], axis = 1)\n",
    "    return res"
   ]
  },
  {
   "cell_type": "code",
   "execution_count": 169,
   "metadata": {},
   "outputs": [],
   "source": [
    "def make_series(data, length):\n",
    "    series=[]\n",
    "    for i in range(len(data)-length):\n",
    "        subdf=data[i:i+length]\n",
    "        series.append((subdf.index[-1], subdf['new_confirmed'].values[-1], subdf.drop('new_confirmed', axis=1).values))\n",
    "    return series"
   ]
  },
  {
   "cell_type": "code",
   "execution_count": 170,
   "metadata": {},
   "outputs": [
    {
     "name": "stdout",
     "output_type": "stream",
     "text": [
      "2020-03-18 () (7, 51)\n",
      "2020-03-18 () (7, 51)\n",
      "2021-10-16 () (7, 51)\n",
      "(577, 7, 51)\n",
      "(577,)\n",
      "6/6 [==============================] - 0s 879us/step\n"
     ]
    }
   ],
   "source": [
    "series = make_series(process_normalize(enc), 7)\n",
    "print(series[0][0],series[0][1].shape,series[0][2].shape)\n",
    "size = round(len(series)*0.2)\n",
    "train = series[:-size]\n",
    "test = series[-size:]\n",
    "val = train[-round(len(train)*0.15):]\n",
    "train = train[:-round(len(train)*0.15)]\n",
    "print(train[0][0],train[0][1].shape,train[0][2].shape)\n",
    "print(val[0][0],val[0][1].shape,val[0][2].shape)\n",
    "learning_rate = 0.01\n",
    "batch_size = 32\n",
    "epochs = 500\n",
    "sequence_length = 7\n",
    "x=np.array([x[2].reshape(7,51) for x in train])\n",
    "y=np.array([x[1] for x in train])\n",
    "xval=np.array([x[2].reshape(7,51) for x in val])\n",
    "yval=np.array([x[1] for x in val])\n",
    "model = keras.Sequential()\n",
    "model.add(keras.layers.LSTM(units = 32,\n",
    "                                return_sequences = True,\n",
    "                                input_shape = (x.shape[1], x.shape[2])))\n",
    "model.add(keras.layers.Dropout(rate= 0.2))\n",
    "# model.add(keras.layers.LSTM(units = 128))\n",
    "# model.add(keras.layers.Dropout(rate= 0.2))\n",
    "model.add(keras.layers.Dense(1, activation = 'relu'))\n",
    "model.compile(optimizer=keras.optimizers.legacy.Adam(learning_rate=learning_rate), loss=\"mae\")\n",
    "print(x.shape)\n",
    "print(y.shape)\n",
    "history = model.fit(\n",
    "    x=x,y=y,\n",
    "    epochs=epochs,\n",
    "    batch_size= batch_size,\n",
    "    shuffle=True,\n",
    "    validation_data = (xval, yval),\n",
    "    verbose = 0\n",
    ")\n",
    "xtest=np.array([x[2].reshape(7,51) for x in test])\n",
    "ytest=np.array([x[1] for x in test])\n",
    "test_pred = model.predict(xtest)"
   ]
  },
  {
   "cell_type": "code",
   "execution_count": 175,
   "metadata": {},
   "outputs": [
    {
     "data": {
      "text/plain": [
       "array([[[ 2.92511283e-03,  1.92017859e-03,  2.46850985e-03, ...,\n",
       "          2.82751394e-04, -2.81413262e-05,  1.68927249e-04],\n",
       "        [ 7.13301468e-03,  4.62662707e-03,  5.13076494e-03, ...,\n",
       "          6.99886395e-04,  8.06461142e-06,  4.11851658e-04],\n",
       "        [ 1.15631206e-02,  6.84708233e-03,  8.38546915e-03, ...,\n",
       "          1.00254904e-03, -4.11917783e-05,  4.35619414e-04],\n",
       "        ...,\n",
       "        [ 1.59854590e-02,  1.20253949e-02,  1.18273916e-02, ...,\n",
       "          1.14078889e-03, -2.21079145e-04,  2.36992715e-04],\n",
       "        [ 2.26494850e-02,  1.43806254e-02,  1.51874454e-02, ...,\n",
       "          1.51195555e-03, -1.82080264e-04,  2.53936955e-04],\n",
       "        [ 3.86507866e-02,  2.70053548e-02,  3.39951237e-02, ...,\n",
       "          2.60269127e-03, -2.35223241e-04,  4.45313677e-04]],\n",
       "\n",
       "       [[ 7.13301468e-03,  4.62662707e-03,  5.13076494e-03, ...,\n",
       "          6.99886395e-04,  8.06461142e-06,  4.11851658e-04],\n",
       "        [ 1.15631206e-02,  6.84708233e-03,  8.38546915e-03, ...,\n",
       "          1.00254904e-03, -4.11917783e-05,  4.35619414e-04],\n",
       "        [ 1.09318967e-02,  8.47547345e-03,  1.11881130e-02, ...,\n",
       "          9.70035018e-04, -1.20516560e-04,  2.82786901e-04],\n",
       "        ...,\n",
       "        [ 2.26494850e-02,  1.43806254e-02,  1.51874454e-02, ...,\n",
       "          1.51195555e-03, -1.82080264e-04,  2.53936955e-04],\n",
       "        [ 3.86507866e-02,  2.70053548e-02,  3.39951237e-02, ...,\n",
       "          2.60269127e-03, -2.35223241e-04,  4.45313677e-04],\n",
       "        [ 4.71020952e-02,  3.14664405e-02,  3.87744095e-02, ...,\n",
       "          2.79052375e-03, -1.97054281e-04,  4.38415199e-04]],\n",
       "\n",
       "       [[ 1.15631206e-02,  6.84708233e-03,  8.38546915e-03, ...,\n",
       "          1.00254904e-03, -4.11917783e-05,  4.35619414e-04],\n",
       "        [ 1.09318967e-02,  8.47547345e-03,  1.11881130e-02, ...,\n",
       "          9.70035018e-04, -1.20516560e-04,  2.82786901e-04],\n",
       "        [ 1.59854590e-02,  1.20253949e-02,  1.18273916e-02, ...,\n",
       "          1.14078889e-03, -2.21079145e-04,  2.36992715e-04],\n",
       "        ...,\n",
       "        [ 3.86507866e-02,  2.70053548e-02,  3.39951237e-02, ...,\n",
       "          2.60269127e-03, -2.35223241e-04,  4.45313677e-04],\n",
       "        [ 4.71020952e-02,  3.14664405e-02,  3.87744095e-02, ...,\n",
       "          2.79052375e-03, -1.97054281e-04,  4.38415199e-04],\n",
       "        [ 4.64901643e-02,  3.96182946e-02,  5.07122303e-02, ...,\n",
       "          3.03950797e-03, -8.96068980e-05,  9.00812827e-04]],\n",
       "\n",
       "       ...,\n",
       "\n",
       "       [[ 3.15750955e-04,  2.33094415e-04,  2.08200179e-04, ...,\n",
       "          3.68301481e-07,  1.04852273e-07,  3.53190465e-07],\n",
       "        [ 2.02663233e-04,  2.34425768e-04,  3.15291911e-04, ...,\n",
       "          3.67766039e-07,  1.31221853e-07,  3.34703393e-07],\n",
       "        [ 3.47873078e-04,  2.28411133e-04,  2.02177037e-04, ...,\n",
       "          3.66883755e-07,  1.90383739e-07,  3.36451506e-07],\n",
       "        ...,\n",
       "        [ 7.06132009e-05,  2.12398260e-04,  4.16564262e-05, ...,\n",
       "          3.65739498e-07,  1.81143329e-07,  3.92876848e-07],\n",
       "        [ 3.05869651e-04,  2.14668708e-04,  7.06114614e-05, ...,\n",
       "          3.65730488e-07,  1.75834754e-07,  3.77019429e-07],\n",
       "        [ 2.21877770e-04,  2.15803135e-04,  3.04772431e-04, ...,\n",
       "          3.64418534e-07,  1.80593662e-07,  3.48453251e-07]],\n",
       "\n",
       "       [[ 2.02663233e-04,  2.34425768e-04,  3.15291911e-04, ...,\n",
       "          3.67766039e-07,  1.31221853e-07,  3.34703393e-07],\n",
       "        [ 3.47873078e-04,  2.28411133e-04,  2.02177037e-04, ...,\n",
       "          3.66883755e-07,  1.90383739e-07,  3.36451506e-07],\n",
       "        [ 4.16564310e-05,  2.31061936e-04,  3.46788153e-04, ...,\n",
       "          3.65739541e-07,  1.61064754e-07,  3.74421055e-07],\n",
       "        ...,\n",
       "        [ 3.05869651e-04,  2.14668708e-04,  7.06114614e-05, ...,\n",
       "          3.65730488e-07,  1.75834754e-07,  3.77019429e-07],\n",
       "        [ 2.21877770e-04,  2.15803135e-04,  3.04772431e-04, ...,\n",
       "          3.64418534e-07,  1.80593662e-07,  3.48453251e-07],\n",
       "        [ 3.25359783e-04,  2.11630102e-04,  2.21609620e-04, ...,\n",
       "          3.63978116e-07,  1.43030865e-07,  3.23807995e-07]],\n",
       "\n",
       "       [[ 3.47873078e-04,  2.28411133e-04,  2.02177037e-04, ...,\n",
       "          3.66883755e-07,  1.90383739e-07,  3.36451506e-07],\n",
       "        [ 4.16564310e-05,  2.31061936e-04,  3.46788153e-04, ...,\n",
       "          3.65739541e-07,  1.61064754e-07,  3.74421055e-07],\n",
       "        [ 7.06132009e-05,  2.12398260e-04,  4.16564262e-05, ...,\n",
       "          3.65739498e-07,  1.81143329e-07,  3.92876848e-07],\n",
       "        ...,\n",
       "        [ 2.21877770e-04,  2.15803135e-04,  3.04772431e-04, ...,\n",
       "          3.64418534e-07,  1.80593662e-07,  3.48453251e-07],\n",
       "        [ 3.25359783e-04,  2.11630102e-04,  2.21609620e-04, ...,\n",
       "          3.63978116e-07,  1.43030865e-07,  3.23807995e-07],\n",
       "        [ 1.72891661e-04,  1.98691206e-04,  3.24798801e-04, ...,\n",
       "          3.63350549e-07,  1.43730687e-07,  3.71830985e-07]]])"
      ]
     },
     "execution_count": 175,
     "metadata": {},
     "output_type": "execute_result"
    }
   ],
   "source": [
    "x"
   ]
  },
  {
   "cell_type": "code",
   "execution_count": 156,
   "metadata": {},
   "outputs": [],
   "source": [
    "df = enc\n",
    "x = df.drop(columns = ['new_confirmed', 'region'] + [col for col in df.columns if col[0].isdigit()])\n",
    "lag1df = x.shift(1)\n",
    "lag1df.columns = ['lag1_' + str(col) for col in lag1df.columns]\n",
    "df = df[['new_confirmed'] + [col for col in df.columns if col[0].isdigit()]].join(lag1df)\n",
    "df = df.dropna()\n",
    "normalizer = Normalizer()\n",
    "norm_df = normalizer.fit_transform(df)\n",
    "data = pd.DataFrame(norm_df, columns = df.columns, index = df.index)\n",
    "series=[]\n",
    "length = 7\n",
    "for i in range(len(data)-length):\n",
    "    subdf=data[i:i+length]\n",
    "    series.append((subdf.index[-1], subdf['new_confirmed'].values[-1], subdf.drop('new_confirmed', axis=1).values))"
   ]
  },
  {
   "cell_type": "code",
   "execution_count": 151,
   "metadata": {},
   "outputs": [
    {
     "data": {
      "text/plain": [
       "array([[ 4.06658665e-03,  2.92508864e-03,  1.92016272e-03, ...,\n",
       "         2.82749056e-04, -2.81410935e-05,  1.68925852e-04],\n",
       "       [ 9.83557605e-03,  7.13266965e-03,  4.62640327e-03, ...,\n",
       "         6.99852541e-04,  8.06422134e-06,  4.11831736e-04],\n",
       "       [ 1.12975953e-02,  1.15623827e-02,  6.84664535e-03, ...,\n",
       "         1.00248506e-03, -4.11891494e-05,  4.35591613e-04],\n",
       "       ...,\n",
       "       [ 1.69925383e-04,  1.62713353e-04,  1.24499081e-04, ...,\n",
       "         2.78391729e-07,  1.44600386e-07,  2.81390079e-07],\n",
       "       [ 2.93732249e-04,  1.69922031e-04,  1.31414715e-04, ...,\n",
       "         2.78386237e-07,  1.34800203e-07,  2.87840183e-07],\n",
       "       [ 9.56960512e-05,  2.93125527e-04,  1.28718854e-04, ...,\n",
       "         2.77811214e-07,  8.96811706e-08,  2.84280122e-07]])"
      ]
     },
     "execution_count": 151,
     "metadata": {},
     "output_type": "execute_result"
    }
   ],
   "source": [
    "data"
   ]
  },
  {
   "cell_type": "code",
   "execution_count": null,
   "metadata": {},
   "outputs": [],
   "source": []
  }
 ],
 "metadata": {
  "kernelspec": {
   "display_name": "base",
   "language": "python",
   "name": "python3"
  },
  "language_info": {
   "codemirror_mode": {
    "name": "ipython",
    "version": 3
   },
   "file_extension": ".py",
   "mimetype": "text/x-python",
   "name": "python",
   "nbconvert_exporter": "python",
   "pygments_lexer": "ipython3",
   "version": "3.11.4"
  }
 },
 "nbformat": 4,
 "nbformat_minor": 2
}
