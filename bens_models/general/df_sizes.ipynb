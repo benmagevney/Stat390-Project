{
 "cells": [
  {
   "cell_type": "code",
   "execution_count": 1,
   "metadata": {},
   "outputs": [],
   "source": [
    "import pandas as pd\n",
    "import matplotlib.pyplot as plt"
   ]
  },
  {
   "cell_type": "code",
   "execution_count": 3,
   "metadata": {},
   "outputs": [
    {
     "name": "stdout",
     "output_type": "stream",
     "text": [
      "East North Central\n",
      "(968, 6)\n",
      "East South Central\n",
      "(968, 7)\n",
      "Mid-Atlantic\n",
      "(968, 7)\n",
      "Mountain\n",
      "(968, 6)\n",
      "New England\n",
      "(968, 5)\n",
      "Pacific\n",
      "(968, 7)\n",
      "South Atlantic\n",
      "(968, 6)\n",
      "West North Central\n",
      "(968, 6)\n",
      "West South Central\n",
      "(968, 5)\n"
     ]
    }
   ],
   "source": [
    "# read datasets \n",
    "enc = pd.read_csv('../../data/regional_datasets/univariate/enc_data_univ.csv')\n",
    "esc = pd.read_csv('../../data/regional_datasets/univariate/esc_data_univ.csv')\n",
    "mid_atlantic = pd.read_csv('../../data/regional_datasets/univariate/mid_atlantic_data_univ.csv')\n",
    "mountain = pd.read_csv('../../data/regional_datasets/univariate/mountain_data_univ.csv')\n",
    "new_england = pd.read_csv('../../data/regional_datasets/univariate/new_england_data_univ.csv')\n",
    "pacific = pd.read_csv('../../data/regional_datasets/univariate/pacific_data_univ.csv')\n",
    "south_atlantic = pd.read_csv('../../data/regional_datasets/univariate/south_atlantic_data_univ.csv')\n",
    "wnc = pd.read_csv('../../data/regional_datasets/univariate/wnc_data_univ.csv')\n",
    "wsc = pd.read_csv('../../data/regional_datasets/univariate/wsc_data_univ.csv')\n",
    "uni_datasets = [enc, esc, mid_atlantic, mountain, new_england, pacific, south_atlantic, wnc, wsc]\n",
    "for df in uni_datasets:\n",
    "    df.set_index(pd.to_datetime(df['date']), inplace=True)\n",
    "    df.drop(columns=[\"Unnamed: 0\", \"date\"], axis=1, inplace=True)\n",
    "    df.sort_index(inplace=True)\n",
    "    print(df.iloc[0][\"region\"])\n",
    "    print(df.shape)\n",
    "    \n"
   ]
  },
  {
   "cell_type": "code",
   "execution_count": 13,
   "metadata": {},
   "outputs": [
    {
     "name": "stdout",
     "output_type": "stream",
     "text": [
      "East North Central\n",
      "863 52\n",
      "East South Central\n",
      "857 53\n",
      "Mid-Atlantic\n",
      "846 53\n",
      "Mountain\n",
      "853 52\n",
      "New England\n",
      "850 51\n",
      "Pacific\n",
      "862 53\n",
      "South Atlantic\n",
      "845 52\n",
      "West North Central\n",
      "828 52\n",
      "West South Central\n",
      "850 51\n"
     ]
    }
   ],
   "source": [
    "# read datasets \n",
    "enc = pd.read_csv('../../data/regional_datasets/multivariate/enc_data_multi.csv')\n",
    "esc = pd.read_csv('../../data/regional_datasets/multivariate/esc_data_multi.csv')\n",
    "mid_atlantic = pd.read_csv('../../data/regional_datasets/multivariate/mid_atlantic_data_multi.csv')\n",
    "mountain = pd.read_csv('../../data/regional_datasets/multivariate/mountain_data_multi.csv')\n",
    "new_england = pd.read_csv('../../data/regional_datasets/multivariate/new_england_data_multi.csv')\n",
    "pacific = pd.read_csv('../../data/regional_datasets/multivariate/pacific_data_multi.csv')\n",
    "south_atlantic = pd.read_csv('../../data/regional_datasets/multivariate/south_atlantic_data_multi.csv')\n",
    "wnc = pd.read_csv('../../data/regional_datasets/multivariate/wnc_data_multi.csv')\n",
    "wsc = pd.read_csv('../../data/regional_datasets/multivariate/wsc_data_multi.csv')\n",
    "multi_datasets = [enc, esc, mid_atlantic, mountain, new_england, pacific, south_atlantic, wnc, wsc]\n",
    "for df in multi_datasets:\n",
    "    df.set_index(pd.to_datetime(df['date']), inplace=True)\n",
    "    df.drop(columns=[\"Unnamed: 0\", \"date\"], axis=1, inplace=True)\n",
    "    df.sort_index(inplace=True)\n",
    "    print(df.iloc[0][\"region\"])\n",
    "    print(df.shape[0], df.shape[1]-1)\n"
   ]
  },
  {
   "cell_type": "code",
   "execution_count": 10,
   "metadata": {},
   "outputs": [
    {
     "name": "stdout",
     "output_type": "stream",
     "text": [
      "East North Central\n",
      "4355 62\n",
      "East South Central\n",
      "3461 62\n",
      "Mid-Atlantic\n",
      "2586 61\n",
      "Mountain\n",
      "6908 65\n",
      "New England\n",
      "5237 62\n",
      "Pacific\n",
      "4387 63\n",
      "South Atlantic\n",
      "7848 66\n",
      "West North Central\n",
      "6018 64\n",
      "West South Central\n",
      "3462 60\n"
     ]
    }
   ],
   "source": [
    "# read datasets \n",
    "import numpy as np\n",
    "enc = pd.read_csv('../../data/regional_datasets/xgboost/enc_data_multi.csv')\n",
    "esc = pd.read_csv('../../data/regional_datasets/xgboost/esc_data_multi.csv')\n",
    "mid_atlantic = pd.read_csv('../../data/regional_datasets/xgboost/mid_atlantic_data_multi.csv')\n",
    "mountain = pd.read_csv('../../data/regional_datasets/xgboost/mountain_data_multi.csv')\n",
    "new_england = pd.read_csv('../../data/regional_datasets/xgboost/new_england_data_multi.csv')\n",
    "pacific = pd.read_csv('../../data/regional_datasets/xgboost/pacific_data_multi.csv')\n",
    "south_atlantic = pd.read_csv('../../data/regional_datasets/xgboost/south_atlantic_data_multi.csv')\n",
    "wnc = pd.read_csv('../../data/regional_datasets/xgboost/wnc_data_multi.csv')\n",
    "wsc = pd.read_csv('../../data/regional_datasets/xgboost/wsc_data_multi.csv')\n",
    "datasets = [enc, esc, mid_atlantic, mountain, new_england, pacific, south_atlantic, wnc, wsc]\n",
    "for df in datasets:\n",
    "    df.drop(['Unnamed: 0', 'Unnamed: 1'], axis=1, inplace=True)\n",
    "    df['date'] = pd.to_datetime(df['date'])\n",
    "    df['year'] = df['date'].dt.year\n",
    "    df['month'] = df['date'].dt.month\n",
    "    df['day'] = df['date'].dt.day\n",
    "    df['dayofyear'] = df['date'].dt.dayofyear\n",
    "    df['dayofmonth'] = df['date'].dt.day\n",
    "    df['weekofyear'] = df['date'].dt.isocalendar().week.astype(np.int64)\n",
    "\n",
    "    print(df.iloc[0][\"region\"])\n",
    "    print(df.shape[0], df.shape[1] - 5)\n"
   ]
  },
  {
   "cell_type": "code",
   "execution_count": null,
   "metadata": {},
   "outputs": [],
   "source": []
  }
 ],
 "metadata": {
  "kernelspec": {
   "display_name": "base",
   "language": "python",
   "name": "python3"
  },
  "language_info": {
   "codemirror_mode": {
    "name": "ipython",
    "version": 3
   },
   "file_extension": ".py",
   "mimetype": "text/x-python",
   "name": "python",
   "nbconvert_exporter": "python",
   "pygments_lexer": "ipython3",
   "version": "3.8.5"
  }
 },
 "nbformat": 4,
 "nbformat_minor": 2
}
