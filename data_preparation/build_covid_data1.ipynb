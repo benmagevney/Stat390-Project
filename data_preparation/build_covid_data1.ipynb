{
 "cells": [
  {
   "cell_type": "code",
   "execution_count": 4,
   "id": "6495ad5a",
   "metadata": {},
   "outputs": [],
   "source": [
    "import pandas as pd\n",
    "import matplotlib.pyplot as plt\n",
    "data = pd.read_csv(\"index.csv\")\n",
    "hosp = pd.read_csv(\"hospitalizations.csv\")\n",
    "epi = pd.read_csv(\"epidemiology.csv\")\n",
    "vax = pd.read_csv(\"vaccinations.csv\")\n",
    "emrg = pd.read_csv(\"lawatlas-emergency-declarations.csv\")\n",
    "weather = pd.read_csv('weather.csv')\n",
    "govresp = pd.read_csv('oxford-government-response.csv')"
   ]
  },
  {
   "cell_type": "code",
   "execution_count": 6,
   "id": "d99ced43",
   "metadata": {},
   "outputs": [],
   "source": [
    "epi_us = epi[epi.location_key.isin(data[data.country_name == 'United States of America'].location_key)]\n",
    "hosp_us = hosp[hosp.location_key.isin(data[data.country_name == 'United States of America'].location_key)]\n",
    "vax_us = vax[vax.location_key.isin(data[data.country_name == 'United States of America'].location_key)]\n",
    "emrg_us = emrg[emrg.location_key.isin(data[data.country_name == 'United States of America'].location_key)]\n",
    "weather_us = weather[weather.location_key.isin(data[data.country_name == 'United States of America'].location_key)]\n",
    "govresp_us = govresp[govresp.location_key.isin(data[data.country_name == 'United States of America'].location_key)]"
   ]
  },
  {
   "cell_type": "code",
   "execution_count": 7,
   "id": "3f5e3cb7",
   "metadata": {},
   "outputs": [],
   "source": [
    "terrs = ['US', 'AS', 'GU', 'MP', 'PR', 'VI']\n",
    "epi_f = epi_us[(epi_us.location_key.str.len() <= 5) & ~(epi_us.location_key.isin(terrs))]\n",
    "hosp_f = hosp_us[(hosp_us.location_key.str.len() <= 5) & ~(hosp_us.location_key.isin(terrs))]\n",
    "vax_f = vax_us[(vax_us.location_key.str.len() <= 5) & ~(vax_us.location_key.isin(terrs))]\n",
    "emrg_f = emrg_us[(emrg_us.location_key.str.len() <= 5) & ~(emrg_us.location_key.isin(terrs))]\n",
    "weather_f = weather_us[(weather_us.location_key.str.len() <= 5) & ~(weather_us.location_key.isin(terrs))]\n",
    "govresp_f = govresp_us[(govresp_us.location_key.str.len() <= 5) & ~(govresp_us.location_key.isin(terrs))]"
   ]
  },
  {
   "cell_type": "code",
   "execution_count": 28,
   "id": "12d56d38",
   "metadata": {},
   "outputs": [],
   "source": [
    "data_all = pd.merge(epi_f, hosp_f, on=['date', 'location_key']).merge(vax_f, on=['date', 'location_key']).merge(weather_f, on=['date', 'location_key']).merge(govresp_f, on=['date', 'location_key'])"
   ]
  },
  {
   "cell_type": "code",
   "execution_count": 89,
   "id": "3563087f",
   "metadata": {},
   "outputs": [],
   "source": [
    "data_all.to_csv('covid_data1.csv')"
   ]
  }
 ],
 "metadata": {
  "kernelspec": {
   "display_name": "Python 3",
   "language": "python",
   "name": "python3"
  },
  "language_info": {
   "codemirror_mode": {
    "name": "ipython",
    "version": 3
   },
   "file_extension": ".py",
   "mimetype": "text/x-python",
   "name": "python",
   "nbconvert_exporter": "python",
   "pygments_lexer": "ipython3",
   "version": "3.9.6"
  }
 },
 "nbformat": 4,
 "nbformat_minor": 5
}
