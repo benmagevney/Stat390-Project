{
 "cells": [
  {
   "cell_type": "code",
   "execution_count": 3,
   "id": "69999466",
   "metadata": {},
   "outputs": [],
   "source": [
    "import pandas as pd\n",
    "import numpy as np\n",
    "import matplotlib.pyplot as plt\n",
    "from division_aggregation_function import division_aggregation\n",
    "from sklearn.experimental import enable_iterative_imputer\n",
    "from sklearn.impute import IterativeImputer, KNNImputer\n",
    "from sklearn.preprocessing import StandardScaler"
   ]
  },
  {
   "cell_type": "code",
   "execution_count": 4,
   "id": "6495ad5a",
   "metadata": {},
   "outputs": [],
   "source": [
    "data = pd.read_csv(\"index.csv\")\n",
    "hosp = pd.read_csv(\"hospitalizations.csv\")\n",
    "epi = pd.read_csv(\"epidemiology.csv\")\n",
    "vax = pd.read_csv(\"vaccinations.csv\")\n",
    "emrg = pd.read_csv(\"lawatlas-emergency-declarations.csv\")\n",
    "weather = pd.read_csv('weather.csv')\n",
    "govresp = pd.read_csv('oxford-government-response.csv')"
   ]
  },
  {
   "cell_type": "code",
   "execution_count": 6,
   "id": "d99ced43",
   "metadata": {},
   "outputs": [],
   "source": [
    "epi_us = epi[epi.location_key.isin(data[data.country_name == 'United States of America'].location_key)]\n",
    "hosp_us = hosp[hosp.location_key.isin(data[data.country_name == 'United States of America'].location_key)]\n",
    "vax_us = vax[vax.location_key.isin(data[data.country_name == 'United States of America'].location_key)]\n",
    "emrg_us = emrg[emrg.location_key.isin(data[data.country_name == 'United States of America'].location_key)]\n",
    "weather_us = weather[weather.location_key.isin(data[data.country_name == 'United States of America'].location_key)]\n",
    "govresp_us = govresp[govresp.location_key.isin(data[data.country_name == 'United States of America'].location_key)]"
   ]
  },
  {
   "cell_type": "code",
   "execution_count": 7,
   "id": "3f5e3cb7",
   "metadata": {},
   "outputs": [],
   "source": [
    "terrs = ['US', 'AS', 'GU', 'MP', 'PR', 'VI']\n",
    "epi_f = epi_us[(epi_us.location_key.str.len() <= 5) & ~(epi_us.location_key.isin(terrs))]\n",
    "hosp_f = hosp_us[(hosp_us.location_key.str.len() <= 5) & ~(hosp_us.location_key.isin(terrs))]\n",
    "vax_f = vax_us[(vax_us.location_key.str.len() <= 5) & ~(vax_us.location_key.isin(terrs))]\n",
    "emrg_f = emrg_us[(emrg_us.location_key.str.len() <= 5) & ~(emrg_us.location_key.isin(terrs))]\n",
    "weather_f = weather_us[(weather_us.location_key.str.len() <= 5) & ~(weather_us.location_key.isin(terrs))]\n",
    "govresp_f = govresp_us[(govresp_us.location_key.str.len() <= 5) & ~(govresp_us.location_key.isin(terrs))]"
   ]
  },
  {
   "cell_type": "code",
   "execution_count": 28,
   "id": "12d56d38",
   "metadata": {},
   "outputs": [],
   "source": [
    "data1 = pd.merge(epi_f, hosp_f, on=['date', 'location_key']).merge(weather_f, on=['date', 'location_key']).merge(govresp_f, on=['date', 'location_key'])\n",
    "vax_f = vax_f[vax_f.columns[(vax_f.isna().sum()/len(vax_f) < 0.8).values]]\n",
    "data1 = pd.merge(data1, vax_f, on = ['date', 'location_key'], how = 'left')"
   ]
  },
  {
   "cell_type": "code",
   "execution_count": null,
   "id": "9634d730",
   "metadata": {},
   "outputs": [],
   "source": [
    "data1.loc[data1['date'] < min(vax_f.date), ['new_persons_vaccinated',\n",
    "       'cumulative_persons_vaccinated', 'new_persons_fully_vaccinated',\n",
    "       'cumulative_persons_fully_vaccinated', 'new_vaccine_doses_administered',\n",
    "       'cumulative_vaccine_doses_administered',\n",
    "       'new_persons_fully_vaccinated_pfizer',\n",
    "       'cumulative_persons_fully_vaccinated_pfizer',\n",
    "       'new_vaccine_doses_administered_pfizer',\n",
    "       'cumulative_vaccine_doses_administered_pfizer',\n",
    "       'new_persons_fully_vaccinated_moderna',\n",
    "       'cumulative_persons_fully_vaccinated_moderna',\n",
    "       'new_vaccine_doses_administered_moderna',\n",
    "       'cumulative_vaccine_doses_administered_moderna',\n",
    "       'new_persons_fully_vaccinated_janssen',\n",
    "       'cumulative_persons_fully_vaccinated_janssen',\n",
    "       'new_vaccine_doses_administered_janssen',\n",
    "       'cumulative_vaccine_doses_administered_janssen']] = 0"
   ]
  },
  {
   "cell_type": "code",
   "execution_count": null,
   "id": "d48253b3",
   "metadata": {},
   "outputs": [],
   "source": [
    "data_all = data1[data1.columns[(data1.isna().sum()/len(data1) < 0.5).values]]"
   ]
  },
  {
   "cell_type": "code",
   "execution_count": 1,
   "id": "3563087f",
   "metadata": {},
   "outputs": [
    {
     "ename": "NameError",
     "evalue": "name 'data_all' is not defined",
     "output_type": "error",
     "traceback": [
      "\u001b[0;31m---------------------------------------------------------------------------\u001b[0m",
      "\u001b[0;31mNameError\u001b[0m                                 Traceback (most recent call last)",
      "Cell \u001b[0;32mIn[1], line 1\u001b[0m\n\u001b[0;32m----> 1\u001b[0m data_all\u001b[38;5;241m.\u001b[39mto_csv(\u001b[38;5;124m'\u001b[39m\u001b[38;5;124mcovid_data1.csv\u001b[39m\u001b[38;5;124m'\u001b[39m)\n",
      "\u001b[0;31mNameError\u001b[0m: name 'data_all' is not defined"
     ]
    }
   ],
   "source": [
    "data_all.to_csv('covid_data1.csv')"
   ]
  },
  {
   "cell_type": "code",
   "execution_count": 37,
   "id": "c20ce8eb",
   "metadata": {},
   "outputs": [],
   "source": [
    "data_all = pd.read_csv('/Users/RJS/Desktop/STAT 390/Stat390-Project/data/covid_data1.csv')\n",
    "data_all['region'] = data_all['location_key'].apply(division_aggregation)\n",
    "data_all = data_all[data_all.columns[(data_all.isna().sum()/len(data_all) <= 0.1).values]]"
   ]
  },
  {
   "cell_type": "code",
   "execution_count": 38,
   "id": "04ccea56",
   "metadata": {},
   "outputs": [],
   "source": [
    "y_data = data_all[['location_key', 'date', 'new_confirmed', 'region']]\n",
    "x_data = data_all.drop(columns = ['location_key', 'date', 'new_confirmed'])\n",
    "xddum = pd.get_dummies(x_data)\n",
    "scaler = StandardScaler()\n",
    "scaledx = scaler.fit_transform(xddum)"
   ]
  },
  {
   "cell_type": "code",
   "execution_count": 39,
   "id": "4644ded2",
   "metadata": {},
   "outputs": [],
   "source": [
    "datanum = xddum.copy()\n",
    "mice = IterativeImputer(max_iter = 50, random_state = 0)\n",
    "imputedvals = mice.fit_transform(datanum)\n",
    "imputed_datanum1 = pd.DataFrame(imputedvals, columns = xddum.columns)"
   ]
  },
  {
   "cell_type": "code",
   "execution_count": 40,
   "id": "4052cd9f",
   "metadata": {},
   "outputs": [],
   "source": [
    "datanum = scaledx.copy()\n",
    "knn = KNNImputer(n_neighbors = 150)\n",
    "imputedvals2 = knn.fit_transform(datanum)\n",
    "knn_datanum = pd.DataFrame(imputedvals2, columns = xddum.columns)"
   ]
  },
  {
   "cell_type": "code",
   "execution_count": 41,
   "id": "a16d0425",
   "metadata": {},
   "outputs": [
    {
     "data": {
      "text/plain": [
       "(44262, 57)"
      ]
     },
     "execution_count": 41,
     "metadata": {},
     "output_type": "execute_result"
    }
   ],
   "source": [
    "imputed_datanum1.shape"
   ]
  },
  {
   "cell_type": "code",
   "execution_count": 42,
   "id": "63c33b89",
   "metadata": {},
   "outputs": [
    {
     "data": {
      "text/plain": [
       "Text(0.5, 1.0, 'New Persons Vaccinated - Moderna Distribution')"
      ]
     },
     "execution_count": 42,
     "metadata": {},
     "output_type": "execute_result"
    },
    {
     "data": {
      "image/png": "[encoded data removed]",
      "text/plain": [
       "<Figure size 640x480 with 1 Axes>"
      ]
     },
     "metadata": {},
     "output_type": "display_data"
    }
   ],
   "source": [
    "plt.hist(data_all.new_persons_fully_vaccinated_moderna, range = (0, 50000))\n",
    "plt.title('New Persons Vaccinated - Moderna Distribution')"
   ]
  },
  {
   "cell_type": "code",
   "execution_count": 43,
   "id": "16c48dc0",
   "metadata": {},
   "outputs": [
    {
     "data": {
      "text/plain": [
       "Text(0.5, 1.0, 'MICE Imputation Value Distribution')"
      ]
     },
     "execution_count": 43,
     "metadata": {},
     "output_type": "execute_result"
    },
    {
     "data": {
      "image/png": "[encoded data removed]",
      "text/plain": [
       "<Figure size 640x480 with 1 Axes>"
      ]
     },
     "metadata": {},
     "output_type": "display_data"
    }
   ],
   "source": [
    "plt.hist(imputed_datanum1[data_all.isna().any(axis = 1)].new_persons_fully_vaccinated_moderna, range = (0, 50000))\n",
    "plt.title('MICE Imputation Value Distribution')"
   ]
  },
  {
   "cell_type": "code",
   "execution_count": 44,
   "id": "0abb8009",
   "metadata": {},
   "outputs": [
    {
     "data": {
      "text/plain": [
       "Text(0.5, 1.0, 'KNN Imputation Value Distribution')"
      ]
     },
     "execution_count": 44,
     "metadata": {},
     "output_type": "execute_result"
    },
    {
     "data": {
      "image/png": "[encoded data removed]",
      "text/plain": [
       "<Figure size 640x480 with 1 Axes>"
      ]
     },
     "metadata": {},
     "output_type": "display_data"
    }
   ],
   "source": [
    "plt.hist(knn_datanum[data_all.isna().any(axis = 1)].new_persons_fully_vaccinated_moderna, range = (0, 50000))\n",
    "plt.title('KNN Imputation Value Distribution')"
   ]
  },
  {
   "cell_type": "code",
   "execution_count": 45,
   "id": "7b1a5c8d",
   "metadata": {},
   "outputs": [],
   "source": [
    "# missingmask = data_all.select_dtypes(include = [np.number]).isna()\n",
    "# data_all.select_dtypes(include = [np.number])[missingmask] = knn_datanum[missingmask]\n",
    "datacopy2 = data_all.mask(data_all.isna(), other = knn_datanum)"
   ]
  },
  {
   "cell_type": "code",
   "execution_count": 46,
   "id": "f3d0fa42",
   "metadata": {},
   "outputs": [],
   "source": [
    "for i in data_all.columns[3:-1]:\n",
    "    for j in range(0, data_all.shape[0]):\n",
    "        if np.isnan(data_all.loc[j, i]):\n",
    "            data_all.loc[j, i] = knn_datanum.loc[j, i]"
   ]
  },
  {
   "cell_type": "code",
   "execution_count": 47,
   "id": "9b1c2ad8",
   "metadata": {},
   "outputs": [],
   "source": [
    "numofstates = {\n",
    "    \"New England\": 6,\n",
    "    \"Mid-Atlantic\": 3,\n",
    "    \"East North Central\": 5,\n",
    "    \"West North Central\": 7,\n",
    "    \"South Atlantic\": 9,\n",
    "    \"East South Central\": 4,\n",
    "    \"West South Central\": 4,\n",
    "    \"Mountain\": 8,\n",
    "    \"Pacific\": 5\n",
    "}"
   ]
  },
  {
   "cell_type": "code",
   "execution_count": 48,
   "id": "795103a4",
   "metadata": {},
   "outputs": [],
   "source": [
    "def groupfilter(group):\n",
    "    region = group.name[0]\n",
    "    numstates = numofstates[region]\n",
    "    return group['location_key'].nunique() == numstates"
   ]
  },
  {
   "cell_type": "code",
   "execution_count": 49,
   "id": "a64274ea",
   "metadata": {},
   "outputs": [],
   "source": [
    "filtered_data = data_all.groupby(['region', 'date']).filter(groupfilter)"
   ]
  },
  {
   "cell_type": "code",
   "execution_count": 50,
   "id": "95ffa57d",
   "metadata": {},
   "outputs": [
    {
     "data": {
      "text/plain": [
       "region              date      \n",
       "East North Central  2020-03-05    5\n",
       "                    2020-03-06    5\n",
       "                    2020-03-07    5\n",
       "                    2020-03-08    5\n",
       "                    2020-03-09    5\n",
       "                                 ..\n",
       "West South Central  2022-06-30    4\n",
       "                    2022-07-01    4\n",
       "                    2022-07-02    4\n",
       "                    2022-07-03    4\n",
       "                    2022-07-04    4\n",
       "Length: 7654, dtype: int64"
      ]
     },
     "execution_count": 50,
     "metadata": {},
     "output_type": "execute_result"
    }
   ],
   "source": [
    "filtered_data.groupby(['region', 'date']).size()"
   ]
  },
  {
   "cell_type": "code",
   "execution_count": 51,
   "id": "509667d5",
   "metadata": {},
   "outputs": [],
   "source": [
    "grouped = filtered_data.groupby(['region', 'date'])"
   ]
  },
  {
   "cell_type": "code",
   "execution_count": 54,
   "id": "2f94eb46",
   "metadata": {},
   "outputs": [],
   "source": [
    "regional_multi = grouped.agg({'new_confirmed': 'sum', 'new_deceased': 'sum',\n",
    "       'cumulative_confirmed': 'sum', 'cumulative_deceased': 'sum', \n",
    "       'new_hospitalized_patients': 'sum', 'cumulative_hospitalized_patients': 'sum',\n",
    "       'current_hospitalized_patients': 'sum', 'current_intensive_care_patients': 'sum',\n",
    "       'new_persons_vaccinated': 'sum', 'cumulative_persons_vaccinated': 'sum',\n",
    "       'new_persons_fully_vaccinated': 'sum', 'cumulative_persons_fully_vaccinated': 'sum',\n",
    "       'new_vaccine_doses_administered': 'sum',\n",
    "       'cumulative_vaccine_doses_administered': 'sum',\n",
    "       'new_persons_fully_vaccinated_pfizer': 'sum',\n",
    "       'cumulative_persons_fully_vaccinated_pfizer': 'sum',\n",
    "       'new_vaccine_doses_administered_pfizer': 'sum',\n",
    "       'cumulative_vaccine_doses_administered_pfizer': 'sum',\n",
    "       'new_persons_fully_vaccinated_moderna': 'sum',\n",
    "       'cumulative_persons_fully_vaccinated_moderna': 'sum',\n",
    "       'new_vaccine_doses_administered_moderna': 'sum',\n",
    "       'cumulative_vaccine_doses_administered_moderna': 'sum',\n",
    "       'new_persons_fully_vaccinated_janssen': 'sum',\n",
    "       'cumulative_persons_fully_vaccinated_janssen': 'sum',\n",
    "       'new_vaccine_doses_administered_janssen': 'sum',\n",
    "       'cumulative_vaccine_doses_administered_janssen': 'sum',\n",
    "       'rainfall_mm': 'sum', \n",
    "       'average_temperature_celsius': 'mean', 'dew_point': 'mean',\n",
    "       'relative_humidity': 'mean', 'school_closing': 'mean', 'workplace_closing': 'mean',\n",
    "       'cancel_public_events': 'mean', 'restrictions_on_gatherings': 'mean',\n",
    "       'public_transport_closing': 'mean', 'stay_at_home_requirements': 'mean',\n",
    "       'restrictions_on_internal_movement': 'mean', 'international_travel_controls': 'mean',\n",
    "       'income_support': 'mean', 'debt_relief': 'mean', 'public_information_campaigns': 'mean',\n",
    "       'testing_policy': 'mean', 'contact_tracing': 'mean', 'facial_coverings': 'mean',\n",
    "       'vaccination_policy': 'mean', 'stringency_index': 'mean', \n",
    "       'minimum_temperature_celsius': 'min', \n",
    "       'maximum_temperature_celsius': 'max'})"
   ]
  },
  {
   "cell_type": "code",
   "execution_count": 60,
   "id": "24c2b5c7",
   "metadata": {},
   "outputs": [],
   "source": [
    "regional_multi.to_csv('../data/regional_multivariate_data.csv')"
   ]
  },
  {
   "cell_type": "code",
   "execution_count": 59,
   "id": "7f8be398",
   "metadata": {},
   "outputs": [
    {
     "data": {
      "text/plain": [
       "region\n",
       "East North Central    863\n",
       "Pacific               862\n",
       "East South Central    857\n",
       "Mountain              853\n",
       "New England           850\n",
       "West South Central    850\n",
       "Mid-Atlantic          846\n",
       "South Atlantic        845\n",
       "West North Central    828\n",
       "dtype: int64"
      ]
     },
     "execution_count": 59,
     "metadata": {},
     "output_type": "execute_result"
    }
   ],
   "source": [
    "regional_multi.value_counts('region')"
   ]
  },
  {
   "cell_type": "code",
   "execution_count": null,
   "id": "ebfc0776",
   "metadata": {},
   "outputs": [],
   "source": []
  }
 ],
 "metadata": {
  "kernelspec": {
   "display_name": "Python 3",
   "language": "python",
   "name": "python3"
  },
  "language_info": {
   "codemirror_mode": {
    "name": "ipython",
    "version": 3
   },
   "file_extension": ".py",
   "mimetype": "text/x-python",
   "name": "python",
   "nbconvert_exporter": "python",
   "pygments_lexer": "ipython3",
   "version": "3.11.4"
  }
 },
 "nbformat": 4,
 "nbformat_minor": 5
}
