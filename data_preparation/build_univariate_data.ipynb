{
 "cells": [
  {
   "cell_type": "code",
   "execution_count": 1,
   "metadata": {},
   "outputs": [],
   "source": [
    "import pandas as pd"
   ]
  },
  {
   "cell_type": "code",
   "execution_count": 30,
   "metadata": {},
   "outputs": [],
   "source": [
    "index = pd.read_csv('../data/google_data/index.csv')\n",
    "epi = pd.read_csv('../data/google_data/epidemiology.csv')"
   ]
  },
  {
   "cell_type": "code",
   "execution_count": 31,
   "metadata": {},
   "outputs": [],
   "source": [
    "territories = ['US', 'US_AS', 'US_GU', 'US_MP', 'US_PR', 'US_VI']\n",
    "location_keys = index[index.country_code == 'US']['location_key']\n",
    "# select only us locations and drop the terriroties to leave only states and DC\n",
    "location_keys = location_keys[[('US' in s and len(s) <= 5) for s in location_keys]][~location_keys.isin(territories)]"
   ]
  },
  {
   "cell_type": "code",
   "execution_count": 32,
   "metadata": {},
   "outputs": [],
   "source": [
    "# filter all dataframes to only include US states and DC\n",
    "epi = epi[epi.location_key.isin(location_keys)]"
   ]
  },
  {
   "cell_type": "code",
   "execution_count": 33,
   "metadata": {},
   "outputs": [],
   "source": [
    "# drop all columns except for date, location_key, and new_confirmed\n",
    "epi_subset = epi.set_index(['date', 'location_key'])['new_confirmed'].reset_index()"
   ]
  },
  {
   "cell_type": "code",
   "execution_count": 39,
   "metadata": {},
   "outputs": [],
   "source": [
    "earliest_date = epi_subset[epi_subset[\"new_confirmed\"] > 0][\"date\"].min()"
   ]
  },
  {
   "cell_type": "code",
   "execution_count": 40,
   "metadata": {},
   "outputs": [],
   "source": [
    "epi_subset = epi_subset[epi_subset[\"date\"] >= earliest_date]"
   ]
  },
  {
   "cell_type": "code",
   "execution_count": 41,
   "metadata": {},
   "outputs": [],
   "source": [
    "epi_subset.to_csv('../data/univariate_data.csv', index=False)"
   ]
  },
  {
   "cell_type": "code",
   "execution_count": null,
   "metadata": {},
   "outputs": [],
   "source": []
  }
 ],
 "metadata": {
  "kernelspec": {
   "display_name": "base",
   "language": "python",
   "name": "python3"
  },
  "language_info": {
   "codemirror_mode": {
    "name": "ipython",
    "version": 3
   },
   "file_extension": ".py",
   "mimetype": "text/x-python",
   "name": "python",
   "nbconvert_exporter": "python",
   "pygments_lexer": "ipython3",
   "version": "3.8.5"
  }
 },
 "nbformat": 4,
 "nbformat_minor": 2
}
